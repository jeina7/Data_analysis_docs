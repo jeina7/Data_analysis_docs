{
 "cells": [
  {
   "cell_type": "markdown",
   "metadata": {},
   "source": [
    "# 마크다운 문법 모음집"
   ]
  },
  {
   "cell_type": "markdown",
   "metadata": {},
   "source": [
    "# 가장 큰 제목 (H1)\n",
    "- 맨 앞에 `#` 하나 붙이기"
   ]
  },
  {
   "cell_type": "markdown",
   "metadata": {},
   "source": [
    "## 두 번째 제목 (H2)\n",
    "- 맨 앞에 `##` 두개"
   ]
  },
  {
   "cell_type": "markdown",
   "metadata": {},
   "source": [
    "### 세 번째 제목 (H3)\n",
    "- 맨 앞에 `###` 셋"
   ]
  },
  {
   "cell_type": "markdown",
   "metadata": {},
   "source": [
    "#### 네 번째 제목 (H4)\n",
    "- 맨 앞에 `####` 넷"
   ]
  },
  {
   "cell_type": "markdown",
   "metadata": {},
   "source": [
    "##### 샾 다섯개는? (H5)\n",
    "- 기울어진 볼드체"
   ]
  },
  {
   "cell_type": "markdown",
   "metadata": {},
   "source": [
    "###### 여섯개는 과연? (H6)\n",
    "- 똑같습니다\n",
    "- 주피터 노트북에서는 같아보이지만, GitHub 등 H6의 디자인을 지원하는 곳에서는 달라보일 수 있습니다."
   ]
  },
  {
   "cell_type": "markdown",
   "metadata": {},
   "source": [
    "### 구분선 만들기\n",
    "\n",
    "---\n",
    "- `---` dash 세 개"
   ]
  },
  {
   "cell_type": "markdown",
   "metadata": {},
   "source": [
    "### 리스트 만들기\n",
    "- `-` 대쉬 하나\n",
    "    - tab 하면 들여쓴 리스트가 됩니다\n",
    "        - 물론 또 들여써도 되지요"
   ]
  },
  {
   "cell_type": "markdown",
   "metadata": {},
   "source": [
    "### 넘버링\n",
    "1. `1` 놀랍게도\n",
    "1. `1` 넘버링은\n",
    "1. `1` 1만 써도\n",
    "1. `1` 알아서 숫자를 매겨줍니다"
   ]
  },
  {
   "cell_type": "markdown",
   "metadata": {},
   "source": [
    "### 볼드체와 이탤릭체\n",
    "- 두꺼운 글씨는 **별 두개로 묶어주세요**\n",
    "- 이탤릭체는 *별 하나로 묶어주면 됩니다*"
   ]
  },
  {
   "cell_type": "markdown",
   "metadata": {},
   "source": [
    "### 인용문구\n",
    "인용하고 싶은 문구가 있을 때는, `>` 문자를 앞에 붙여줍니다\n",
    "> 이렇게요!"
   ]
  },
  {
   "cell_type": "markdown",
   "metadata": {},
   "source": [
    "### 코드 블럭\n",
    "- 코드를 감싸고 싶을 때는 1 왼쪽에 있는 ```로 글자를 감싸줍니다.    \n",
    "- \\`print(\"hello\")\\` 라고 쓰면 `print(\"hello\")` 로 보이게 되죠"
   ]
  },
  {
   "cell_type": "markdown",
   "metadata": {},
   "source": [
    "### 여러 줄의 코드 블럭\n",
    "- 여러 줄의 코드 블럭을 만들고 싶을 때는 \\`\\`\\` 를 세 개 사용합니다.     \n",
    "\n",
    "\n",
    "\\`\\`\\`    \n",
    "print(\"hello\")    \n",
    "print(\"world\")     \n",
    "\\`\\`\\`     \n",
    "\n",
    "라고 쓰면     \n",
    "\n",
    "\n",
    "```    \n",
    "print(\"hello\")    \n",
    "print(\"world\")     \n",
    "```     \n",
    "\n",
    "\n",
    "처럼 코드 글씨체로 보이게 됩니다."
   ]
  },
  {
   "cell_type": "markdown",
   "metadata": {},
   "source": [
    "### 하이퍼링크\n",
    "- 링크는 `[내 블로그](http://myblog.com)` 처럼 대괄호와 소괄호 두 가지로 나타냅니다.\n",
    "- [내 블로그](https://jeinalog.tistory.com/)"
   ]
  },
  {
   "cell_type": "markdown",
   "metadata": {},
   "source": [
    "### 줄 바꿈\n",
    "마크다운은 그냥 엔터를 치면 줄이 바뀌지 않습니다.     \n",
    "한 줄 마지막에 세 칸 이상 띄어쓰기를 해야 줄 바꿈이 됩니다."
   ]
  },
  {
   "cell_type": "markdown",
   "metadata": {},
   "source": [
    "### 빈 줄\n",
    "마크다운은 엔터를 아무리 많이 쳐도 사이에 빈 줄이 두 줄 이상 생기지 않습니다. \n",
    "\n",
    "\n",
    "\n",
    "\n",
    "\n",
    "\n",
    "\n",
    "\n",
    "이렇게요"
   ]
  },
  {
   "cell_type": "markdown",
   "metadata": {},
   "source": [
    "그래서 빈 줄을 많이 두고 싶을 때는 `<br>` 을 입력하면 됩니다.\n",
    "<br>\n",
    "<br>\n",
    "<br>\n",
    "<br>\n",
    "이렇게요"
   ]
  }
 ],
 "metadata": {
  "kernelspec": {
   "display_name": "Python 3",
   "language": "python",
   "name": "python3"
  },
  "language_info": {
   "codemirror_mode": {
    "name": "ipython",
    "version": 3
   },
   "file_extension": ".py",
   "mimetype": "text/x-python",
   "name": "python",
   "nbconvert_exporter": "python",
   "pygments_lexer": "ipython3",
   "version": "3.7.2"
  }
 },
 "nbformat": 4,
 "nbformat_minor": 2
}
