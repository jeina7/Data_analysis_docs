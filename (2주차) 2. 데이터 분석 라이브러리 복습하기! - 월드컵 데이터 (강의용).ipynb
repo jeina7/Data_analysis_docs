{
 "cells": [
  {
   "cell_type": "markdown",
   "metadata": {},
   "source": [
    "# 데이터 분석 라이브러리 복습하기! - 월드컵 데이터"
   ]
  },
  {
   "cell_type": "markdown",
   "metadata": {},
   "source": [
    "Pandas와 Matplotlib을 실전 데이터에 활용하기"
   ]
  },
  {
   "cell_type": "markdown",
   "metadata": {},
   "source": [
    "### 학습 목표\n",
    "- 월드컵 데이터와 월드컵 매치 데이터를 활용해서 지금까지 배운 Pandas와 Matplotlib을 응용해봅니다.\n",
    "- 실전 데이터를 사용할 때 활용하기 편리하며 개발 과정에서 사용가능한 형태로 전처리하는 방법을 배워봅니다.\n",
    "- 데이터를 한 눈에 쉽게 이해하고 분석할 수 있도록 하는 필수 작업인 시각화를 연습해봅니다."
   ]
  },
  {
   "cell_type": "markdown",
   "metadata": {},
   "source": [
    "---"
   ]
  },
  {
   "cell_type": "markdown",
   "metadata": {},
   "source": [
    "# Contents\n",
    "**1. [월드컵 데이터](#1.-월드컵-데이터)**    \n",
    "1-1. [데이터 분석 준비하기](#1-1.-데이터-분석-준비하기)      \n",
    "1-2. [전체 데이터 한눈에보기](#1-2.-전체-데이터-한눈에보기)      \n",
    "1-3. [데이터 전처리](#1-3.-데이터-전처리)      \n",
    "1-4. [그래프로 확실하게 확인하기](#1-4.-그래프로-확실하게-확인하기)      \n",
    "\n",
    "**2. [월드컵 매치 데이터](#2.-월드컵-매치-데이터)**     \n",
    "2-1. [데이터 분석 준비하기](#2-1.-데이터-분석-준비하기)    \n",
    "2-2. [꼭 필요한 데이터 전처리](#2-2.-꼭-필요한--데이터-전처리)      \n",
    "2-3. [더 해보면 좋을 전처리들](#2-3.-더-해보면-좋을-전처리들)    \n",
    "2-4. [Datetime 데이터 다뤄보기](#2-4.-Datetime-데이터-다뤄보기)    \n",
    "2-5. [나라 이름 전처리하기](#2-5.-나라-이름-전처리하기)   \n",
    "2-6. [국가별 득점 수 구하기](#2-6.-국가별-득점-수-구하기)"
   ]
  },
  {
   "cell_type": "markdown",
   "metadata": {},
   "source": [
    "---"
   ]
  },
  {
   "cell_type": "markdown",
   "metadata": {},
   "source": [
    "# 1. 월드컵 데이터 "
   ]
  },
  {
   "cell_type": "markdown",
   "metadata": {},
   "source": [
    "## 1-1. 데이터 분석 준비하기"
   ]
  },
  {
   "cell_type": "markdown",
   "metadata": {},
   "source": [
    "본격적으로 데이터를 분석하기에 앞서, 먼저 앞으로의 데이터 분석에 필요한 module을 import 해 봅니다.   \n",
    "지금까지 배웠던 numpy, pandas, matplotlib과 함께 또다른 시각화 툴인 seaborn 까지 사용해 보겠습니다."
   ]
  },
  {
   "cell_type": "markdown",
   "metadata": {},
   "source": [
    "### (1) Import Modules"
   ]
  },
  {
   "cell_type": "code",
   "execution_count": null,
   "metadata": {},
   "outputs": [],
   "source": [
    "# numpy\n",
    "\n",
    "\n",
    "# pandas\n",
    "\n",
    "\n",
    "# seaborn\n",
    "\n",
    "\n",
    "# matplotlib\n",
    "\n",
    "%matplotlib inline\n",
    "%config InlineBackend.figure_format = 'retina'"
   ]
  },
  {
   "cell_type": "markdown",
   "metadata": {},
   "source": [
    "### (2) Load Dataset"
   ]
  },
  {
   "cell_type": "markdown",
   "metadata": {},
   "source": [
    "그 다음, 가장 중요한 데이터셋을 가져와 봅니다. 데이터셋은 아래 출처에서 다운로드 할 수 있습니다.    \n",
    "- 출처 : https://www.kaggle.com/abecklas/fifa-world-cup \n",
    "\n",
    "\n",
    "\n",
    "`Download`를 통해 데이터를 저장하면 `fifa-world-cup.zip` 파일이 저장됩니다.     \n",
    "압축파일을 풀면 얻을 수 있는 `fifa-world-cup` 폴더를 현재 주피터 노트북 파일과 같은 위치에 저장해주세요.   \n",
    "폴더 내에는 `WorldCups.csv`, `WorldCupMatches.csv`, `WorldCupPlayers.csv` 이름의 csv 파일들이 있습니다."
   ]
  },
  {
   "cell_type": "markdown",
   "metadata": {},
   "source": [
    "pandas를 활용해 데이터를 가져와보도록 하겠습니다."
   ]
  },
  {
   "cell_type": "code",
   "execution_count": null,
   "metadata": {
    "scrolled": false
   },
   "outputs": [],
   "source": [
    "# read_csv로 csv 파일을 불러옵니다.pandas를 활용해 데이터를 가져와보도록 하겠습니다.\n",
    "worldcup = \n",
    "\n",
    "# 데이터프레임의 크기를 확인합니다.\n",
    "print()\n",
    "\n",
    "worldcup"
   ]
  },
  {
   "cell_type": "markdown",
   "metadata": {},
   "source": [
    "- 데이터셋의 각 컬럼에 대한 설명은 다음과 같습니다.\n",
    "\n",
    "\n",
    "변수명 | 의미 | 예시\n",
    "- | - | -\n",
    "Year | 개최 연도 | 1930\n",
    "Country | 개최 국가 | Uruguay\n",
    "Winner | 우승 국가 | Uruguay\n",
    "Runners-Up | 준우승 국가 | Argentina\n",
    "Third | 3위 국가 | USA\n",
    "Fourth | 4위 국가 | Yugoslavia\n",
    "GoalsScored | 총 득점 수 | 70\n",
    "QualifiedTeams | 참가 국가 수 | 13\n",
    "MatchesPlayed | 총 경기 수 | 18\n",
    "Attendance | 총 관중 | 590549"
   ]
  },
  {
   "cell_type": "markdown",
   "metadata": {},
   "source": [
    "## 1-2. 전체 데이터 한눈에보기\n",
    "- 데이터프레임의 각 열에 대한 정보와, 비어있는 데이터의 개수를 간단히 확인합니다."
   ]
  },
  {
   "cell_type": "code",
   "execution_count": null,
   "metadata": {
    "scrolled": true
   },
   "outputs": [],
   "source": [
    "# info 확인하기\n"
   ]
  },
  {
   "cell_type": "markdown",
   "metadata": {},
   "source": [
    "- `object`는 문자열 데이터를, `int64`는 정수형 데이터를 나타냅니다. \n",
    "- 정수형이어야 할 `Attendence` 컬럼이 `object`로 저장되어 있으므로, 이를 처리해줘야 할 것으로 보입니다."
   ]
  },
  {
   "cell_type": "markdown",
   "metadata": {},
   "source": [
    "## 1-3. 데이터 전처리\n",
    "- 먼저 처리가 필요한 데이터나 추가해주고 싶은 데이터를 다뤄보겠습니다. \n",
    "- 데이터 전처리는 데이터를 이해하며, 내 입맛대로 분석하기 위해 필수적으로 거쳐야 할 사전 작업입니다.\n",
    "\n",
    "\n",
    "\n",
    "### (1) `Attendance` : object → float 으로 변환\n",
    "- 하나의 컬럼의 값들을 일괄적으로 변환해주기 위해 함수를 적용할 수 있는 `astype` 함수를 사용합니다."
   ]
  },
  {
   "cell_type": "code",
   "execution_count": null,
   "metadata": {},
   "outputs": [],
   "source": [
    "worldcup[\"Attendance\"] = worldcup[\"Attendance\"].#"
   ]
  },
  {
   "cell_type": "markdown",
   "metadata": {},
   "source": [
    "- '590.549' 를 `int`로 만들 수 없다는 내용의 에러가 발생합니다.\n",
    "\n",
    "\n",
    "- 이는 `.` 문자로 인해 일어난 것으로, `.`을 없애주도록 하겠습니다."
   ]
  },
  {
   "cell_type": "markdown",
   "metadata": {},
   "source": [
    "#### 1. 사용할 함수 `attendance_to_float` 정의\n",
    "- 간단하게 `replace`를 활용해서 \".\"을 없애줍니다."
   ]
  },
  {
   "cell_type": "code",
   "execution_count": null,
   "metadata": {},
   "outputs": [],
   "source": [
    "def attendance_to_float(i):\n",
    "    i = i.#\n",
    "    return i"
   ]
  },
  {
   "cell_type": "markdown",
   "metadata": {},
   "source": [
    "#### 2. 함수 적용결과 간단하게 확인\n",
    "- 단 하나의 문자열로 먼저 함수의 결과를 확인합니다."
   ]
  },
  {
   "cell_type": "code",
   "execution_count": null,
   "metadata": {},
   "outputs": [],
   "source": [
    "attendance_to_float(\"3.386.810\")"
   ]
  },
  {
   "cell_type": "markdown",
   "metadata": {},
   "source": [
    "#### 3. 데이터프레임에 `apply` 함수로 적용\n",
    "- 함수 적용 결과에 문제가 없다면, 전체 데이터프레임에 적용시켜줍니다."
   ]
  },
  {
   "cell_type": "code",
   "execution_count": null,
   "metadata": {},
   "outputs": [],
   "source": [
    "worldcup[\"Attendance\"] = worldcup[\"Attendance\"].#\n",
    "worldcup[\"Attendance\"] = worldcup[\"Attendance\"].#\n",
    "worldcup"
   ]
  },
  {
   "cell_type": "markdown",
   "metadata": {},
   "source": [
    "모두 적용되었습니다. 다시 한 번 데이셋을 살펴볼까요?"
   ]
  },
  {
   "cell_type": "code",
   "execution_count": null,
   "metadata": {},
   "outputs": [],
   "source": [
    "worldcup.info()"
   ]
  },
  {
   "cell_type": "markdown",
   "metadata": {},
   "source": [
    "- `Attendance` 컬럼이 `int64`의 정수형 데이터로 잘 변환된 것을 볼 수 있습니다!"
   ]
  },
  {
   "cell_type": "markdown",
   "metadata": {},
   "source": [
    "### (2) 경기 당 득점 수 확인하기\n",
    "- 원본 데이터에는 한 월드컵에서 득점된 전체 골의 수 `GoalsScored`와 진행된 전체 매치 수 `MatchesPlayed`가 있습니다.\n",
    "- 우리는 이 둘을 활용하여 한 매치 당 득점된 골의 수의 평균을 구해보겠습니다.\n",
    "\n",
    "\n",
    "- `Goals_per_Match` = `GoalsScored` / `MatchesPlayed`"
   ]
  },
  {
   "cell_type": "code",
   "execution_count": null,
   "metadata": {},
   "outputs": [],
   "source": [
    "worldcup[\"Goals_per_Match\"] = #\n",
    "worldcup[[\"GoalsScored\", \"MatchesPlayed\", \"Goals_per_Match\"]]"
   ]
  },
  {
   "cell_type": "markdown",
   "metadata": {},
   "source": [
    "## 1-4. 그래프로 확실하게 확인하기\n",
    "- 이번엔 데이터를 그래프로 옮겨서 확인해보겠습니다. \n",
    "- 시각화 작업은 데이터를 더 빠르고 확실하게 이해하는데에 필수적입니다.\n",
    "\n",
    "\n",
    "### (1) 전체 관중수, 경기 수 그래프 그려보기\n",
    "- plt 플롯의 선과 마커는 원하는대로 커스터마이징이 가능합니다.   \n",
    " (https://kongdols-room.tistory.com/82 참고)"
   ]
  },
  {
   "cell_type": "code",
   "execution_count": null,
   "metadata": {},
   "outputs": [],
   "source": [
    "# 그래프 사이즈 설정\n",
    "plt.figure(figsize=(16, 6))\n",
    "\n",
    "\n",
    "# 한 번에 두 개 이상의 그래프를 그리고 싶다면 subplot을 활용하면 됩니다.\n",
    "# 그리고자 하는 그래프들을 행(row), 열(column) 로 배열할 때,\n",
    "# subplot(row, column, order) 순서대로 숫자를 입력하면 됩니다.\n",
    "\n",
    "plt.subplot(121)\n",
    "plt.plot(#)\n",
    "plt.title(\"Attendance\")\n",
    "plt.subplot(122)\n",
    "plt.plot(#)\n",
    "plt.title(\"Matches Played\")\n",
    "\n",
    "plt.show()"
   ]
  },
  {
   "cell_type": "markdown",
   "metadata": {},
   "source": [
    "- 연도가 지남에 따라 전체 관중의 수와 경기 수가 늘어난 것으로 보입니다."
   ]
  },
  {
   "cell_type": "markdown",
   "metadata": {},
   "source": [
    "### (2) 전체 득점 수, 전체 매치 수, 매치 당 골 수 그래프 그려보기"
   ]
  },
  {
   "cell_type": "markdown",
   "metadata": {},
   "source": [
    "- 이번에는 득점에 관련된 그래프들을 확인해보겠습니다.\n",
    "\n",
    "- `GoalsScored`, `MatchesPlayed`, `Goals_per_Match`는 모두 년도별로 비교하면 좋은 데이터이기 때문에, 한 그래프 안에 모두 표현해보겠습니다."
   ]
  },
  {
   "cell_type": "code",
   "execution_count": null,
   "metadata": {},
   "outputs": [],
   "source": [
    "plt.figure(figsize=(16, 6))\n",
    "\n",
    "plt.plot(#)\n",
    "plt.plot(#)\n",
    "plt.plot(#)\n",
    "\n",
    "# label을 보고싶다면\n",
    "plt.legend()\n",
    "plt.show()"
   ]
  },
  {
   "cell_type": "markdown",
   "metadata": {},
   "source": [
    "- 하지만 스케일이 다르기 때문에 한 그래프 안에 모두를 표현하는 것이 부적절할 수도 있습니다.\n",
    "- 세 그래프를 세로로 나열해보겠습니다."
   ]
  },
  {
   "cell_type": "code",
   "execution_count": null,
   "metadata": {},
   "outputs": [],
   "source": [
    "plt.figure(figsize=(16, 12))\n",
    "\n",
    "plt.subplot(311)\n",
    "plt.plot(#)\n",
    "plt.title(\"Goals Scored\")\n",
    "plt.subplot(312)\n",
    "plt.plot(#)\n",
    "plt.title(\"MatchesPlayed\")\n",
    "plt.subplot(313)\n",
    "plt.plot(#)\n",
    "plt.title(\"Goals_per_Match\")\n",
    "plt.show()"
   ]
  },
  {
   "cell_type": "markdown",
   "metadata": {},
   "source": [
    "- 나눠서 보니 경향성이 훨씬 명확하게 보이는군요.\n",
    "- 경기 수가 늘어남에 따라 전체 득점 수도 꾸준히 늘어났지만, 각 경기 당 득점 수는 꾸준히 내려가고 있습니다. \n",
    "- 나라별 경기 진행이 초기보다 안정화되었다고 볼 수 있겠습니다."
   ]
  },
  {
   "cell_type": "markdown",
   "metadata": {},
   "source": [
    "---"
   ]
  },
  {
   "cell_type": "markdown",
   "metadata": {},
   "source": [
    "# 2. 월드컵 매치 데이터"
   ]
  },
  {
   "cell_type": "markdown",
   "metadata": {},
   "source": [
    "## 2-1. 데이터 분석 준비하기"
   ]
  },
  {
   "cell_type": "markdown",
   "metadata": {},
   "source": [
    "### (1) Load Dataset"
   ]
  },
  {
   "cell_type": "markdown",
   "metadata": {},
   "source": [
    "이번에는 월드컵 매치 데이터를 확인해보겠습니다.     \n",
    "이번에는 `WorldCupMatches.csv` 데이터를 사용합니다. 역시 pandas로 데이터를 가져옵니다."
   ]
  },
  {
   "cell_type": "code",
   "execution_count": null,
   "metadata": {
    "scrolled": false
   },
   "outputs": [],
   "source": [
    "# read_csv\n",
    "match = \n",
    "\n",
    "# shape 출력\n",
    "print(match.shape)\n",
    "\n",
    "match.head()"
   ]
  },
  {
   "cell_type": "markdown",
   "metadata": {},
   "source": [
    "- 이번에는 이전 데이터보다 훨씬 다양한 데이터들이 있는 것 같습니다. 아마 연도별로 진행된 모든 매치들이 들어있기 때문일 것입니다.\n",
    "\n",
    "\n",
    "- 데이터셋의 각 컬럼에 대한 설명은 다음과 같습니다.\n",
    "\n",
    "\n",
    "변수명 | 의미 | 예시\n",
    "- | - | -\n",
    "Year | 경기가 진행된 연도 | 1930\n",
    "Datetime | 경기 시작 시간 | 13 Jul 1930 - 15:00\n",
    "Stage | 스테이지(조별리그, 16강, 8강 등) | Group 1\n",
    "Stadium | 경기장 | Pocitos\n",
    "City | 도시 | Montevideo\n",
    "Home Team Name | 홈 팀 국가 이름 | France\n",
    "Home Team Goals | 홈 팀 득점 수 | 4\t\n",
    "Away Team Goals | 원정 팀 득점 수 | 1\n",
    "Away Team Name | 원정 팀 국가 이름 | Mexico\n",
    "Win conditions | 승리 상황  | Italy win after extra time\n",
    "Attendance | 관중 수 | 4444\n",
    "Half-time Home Goals | 홈 팀 전반전 득점 수 | 3\n",
    "Half-time Away Goals | 원정 팀 전반전 득점 수 | 0\n",
    "Referee | 주심의 이름 | LOMBARDI Domingo (URU)\t\n",
    "Assistant 1 | 제 1 부심(선심)의 이름 | CRISTOPHE Henry (BEL)\t\n",
    "Assistant 2 | 제 2 부심(선심)의 이름 | REGO Gilberto (BRA)\t\n",
    "RoundID | 라운드의 고유 ID | 201\n",
    "MatchID | 경기의 고유 ID | 1096\n",
    "Home Team Initials | 홈 팀의 세 글자 이니셜 | FRA\n",
    "Away Team Initials | 원정 팀의 세 글자 이니셜 | MEX"
   ]
  },
  {
   "cell_type": "markdown",
   "metadata": {},
   "source": [
    "## 2-2. 꼭 필요한  데이터 전처리\n",
    "- 데이터를 다루기 전에 꼭 확인하고 처리해야 할 것들이 있습니다. 바로 확인해보겠습니다."
   ]
  },
  {
   "cell_type": "markdown",
   "metadata": {},
   "source": [
    "### (1) 전체 데이터 확인"
   ]
  },
  {
   "cell_type": "markdown",
   "metadata": {},
   "source": [
    "- 세부적으로 보기 이전에, 먼저 전체 데이터를 확인해보겠습니다."
   ]
  },
  {
   "cell_type": "code",
   "execution_count": null,
   "metadata": {
    "scrolled": false
   },
   "outputs": [],
   "source": [
    "# info 확인\n",
    "match.info()"
   ]
  },
  {
   "cell_type": "markdown",
   "metadata": {},
   "source": [
    "- 총 4572개의 행과,  20개의 컬럼이 존재합니다. 하지만, Non-Null count는 852개 밖에 안되는군요. 결측치를 확인해 볼 필요가 있겠습니다."
   ]
  },
  {
   "cell_type": "markdown",
   "metadata": {},
   "source": [
    "### (2) 결측치 (빈 데이터)"
   ]
  },
  {
   "cell_type": "markdown",
   "metadata": {},
   "source": [
    "- 결측치가 있다면 pandas에서 사용하는 대부분의 함수 또는 연산이 작동하지 않습니다. 따라서 결측치를 먼저 확인해주는 습관을 가지고 있으면 좋습니다.\n",
    "\n",
    "\n",
    "\n",
    "\n",
    "- 결측치는 `isnull()` 함수로 확인해볼 수 있습니다."
   ]
  },
  {
   "cell_type": "code",
   "execution_count": null,
   "metadata": {},
   "outputs": [],
   "source": [
    "match.#"
   ]
  },
  {
   "cell_type": "markdown",
   "metadata": {},
   "source": [
    "- `isnull()` 함수를 그냥 사용하면 위와 같이 비어있지 않고 어떤 값이든 들어있다면 `False`, 값이 없어 비어있다면 `True`로 표시가 됩니다.\n",
    "- 하지만, 이렇게는 여전히 한 번에 볼 수 없습니다. 따라서 `isnull()` 뒤에 `sum()` 함수를 추가로 붙여주어 결측치의 개수를 확인해보겠습니다."
   ]
  },
  {
   "cell_type": "code",
   "execution_count": null,
   "metadata": {},
   "outputs": [],
   "source": [
    "match.#"
   ]
  },
  {
   "cell_type": "markdown",
   "metadata": {},
   "source": [
    "- `sum()` 함수가 컬럼별로 (`axis=0`) 연산되었기 때문에 Series 형태로 보여지게 되었습니다. \n",
    "- 여기에 `sum()`을 한 번 더 사용하면 전체 데이터프레임의 결측치 총 개수를 확인할 수 있습니다."
   ]
  },
  {
   "cell_type": "code",
   "execution_count": null,
   "metadata": {},
   "outputs": [],
   "source": [
    "match.#"
   ]
  },
  {
   "cell_type": "markdown",
   "metadata": {},
   "source": [
    "- 그나저나, 결측치가 매우 많아보입니다. 또한 전부 3720개인 것으로 보아 무언가 패턴이 있는 것 같은데요!\n",
    "- 확인해 보겠습니다.\n",
    "\n",
    "\n",
    "- `sum()` 함수에 `axis=1` 인자를 넣어주면 각각의 행 기준으로 합산을 합니다. (즉, axis 1이 사라집니다 : axis 0은 행, axis 1은 열을 나타냅니다)"
   ]
  },
  {
   "cell_type": "code",
   "execution_count": null,
   "metadata": {},
   "outputs": [],
   "source": [
    "match.isnull().sum(#)"
   ]
  },
  {
   "cell_type": "markdown",
   "metadata": {},
   "source": [
    "- 어랏, 아랫부분의 행들에 `null`값이 20개씩 있군요.\n",
    "- 전체 컬럼의 개수가 20개였으므로, 행별로 결측치가 20개인 데이터는 모든 컬럼이 전부 비어있는 행이라고 볼 수 있겠습니다. \n",
    "- 원래 결측치는 어떤 식으로 존재하냐에 따라 어떻게 처리할지 고민해보는 것이 좋지만, 이처럼 데이터가 아예 없는 경우에는 활용 자체를 할 수가 없기 때문에 필요가 없습니다.\n",
    "- 따라서 이러한 행들은 지워주도록 하겠습니다.\n",
    "\n",
    "\n",
    "- `null`값이 있는 행을 지우고 싶을 때에는 `dropna`를 활용하면 편리하게 지울 수 있습니다."
   ]
  },
  {
   "cell_type": "code",
   "execution_count": null,
   "metadata": {},
   "outputs": [],
   "source": [
    "# dropna\n",
    "match = match.#\n",
    "print(match.shape)\n",
    "match.head()"
   ]
  },
  {
   "cell_type": "markdown",
   "metadata": {},
   "source": [
    "- 비어있는 값이 있는 행이 없어지고 850개의 행만 남았습니다.\n",
    "- 다시 null값의 개수를 확인해보죠."
   ]
  },
  {
   "cell_type": "code",
   "execution_count": null,
   "metadata": {},
   "outputs": [],
   "source": [
    "# isnull.sum()\n"
   ]
  },
  {
   "cell_type": "markdown",
   "metadata": {},
   "source": [
    "깔끔히 모두 지워졌군요!"
   ]
  },
  {
   "cell_type": "markdown",
   "metadata": {},
   "source": [
    "### (3) 중복된 데이터"
   ]
  },
  {
   "cell_type": "markdown",
   "metadata": {},
   "source": [
    "- 비어있는 데이터 다음에는 중복된 데이터도 확인해봐야겠죠. `duplicated()` 함수를 활용해 간단히 확인할 수 있습니다.\n",
    "\n",
    "\n",
    "\n",
    "- 역시 뒤에 `sum()`을 붙여  개수를 확인해보겠습니다."
   ]
  },
  {
   "cell_type": "code",
   "execution_count": null,
   "metadata": {},
   "outputs": [],
   "source": [
    "match.#"
   ]
  },
  {
   "cell_type": "markdown",
   "metadata": {},
   "source": [
    "- 15개의 중복 데이터가 있군요! `drop_duplicates()`를 활용해서 지워주겠습니다."
   ]
  },
  {
   "cell_type": "code",
   "execution_count": null,
   "metadata": {},
   "outputs": [],
   "source": [
    "# drop_dupilcates\n",
    "match = match.#"
   ]
  },
  {
   "cell_type": "code",
   "execution_count": null,
   "metadata": {},
   "outputs": [],
   "source": [
    "# 확인\n",
    "match.#"
   ]
  },
  {
   "cell_type": "markdown",
   "metadata": {},
   "source": [
    "- 중복된 데이터까지 모두 지워졌습니다! 이제 본격적으로 시작해보도록 하겠습니다."
   ]
  },
  {
   "cell_type": "markdown",
   "metadata": {},
   "source": [
    "## 2-3. 더 해보면 좋을 전처리들\n",
    "- 기본적인 처리 후 확인해보며 처리하면 좋을 것들에 대해  고민해보겠습니다.\n",
    "- 데이터셋에 따라 꼭 필요하지는 않을 수도 있으나, 알고 있다면 도움이 될 수도 있습니다!"
   ]
  },
  {
   "cell_type": "markdown",
   "metadata": {},
   "source": [
    "### (1) 숫자형 데이터 가볍게 만들기\n",
    "- 먼저 숫자로 되어 있는 데이터를 확인해보겠습니다. float64라고 써있었던 컬럼들이요!"
   ]
  },
  {
   "cell_type": "code",
   "execution_count": null,
   "metadata": {},
   "outputs": [],
   "source": [
    "number_col = [\"Year\", \"Home Team Goals\", \"Away Team Goals\", \"Attendance\", \"Half-time Home Goals\", \\\n",
    "              \"Half-time Away Goals\", \"RoundID\", \"MatchID\"]\n",
    "\n",
    "match[number_col].head()"
   ]
  },
  {
   "cell_type": "markdown",
   "metadata": {},
   "source": [
    "- 확인 결과 이 데이터들은 현재 모두 float, 즉 실수 자료형으로 저장되어 있으나, 사실 정수형 int 데이터여도 문제가 없는 데이터들입니다.\n",
    "- 따라서 이 데이터들은 모두 int 정수형 데이터로 수정해주도록 하겠습니다. \n",
    "- 데이터셋이 커질수록, float 자료형은 메모리를 더 많이 차지하기 때문에 정수형이어도 문제가 없을 경우 정수형으로 저장해주는 것이 좋습니다."
   ]
  },
  {
   "cell_type": "code",
   "execution_count": null,
   "metadata": {},
   "outputs": [],
   "source": [
    "match[\"Year\"] = match[\"Year\"].#\n",
    "match[\"Home Team Goals\"] = match[\"Home Team Goals\"].#\n",
    "match[\"Away Team Goals\"] = match[\"Away Team Goals\"].#\n",
    "match[\"Attendance\"] = match[\"Attendance\"].astype(\"int64\")\n",
    "match[\"Half-time Home Goals\"] = match[\"Half-time Home Goals\"].#\n",
    "match[\"Half-time Away Goals\"] = match[\"Half-time Away Goals\"].#\n",
    "match[\"RoundID\"] = match[\"RoundID\"].#\n",
    "match[\"MatchID\"] = match[\"MatchID\"].#"
   ]
  },
  {
   "cell_type": "code",
   "execution_count": null,
   "metadata": {},
   "outputs": [],
   "source": [
    "match[number_col].head()"
   ]
  },
  {
   "cell_type": "markdown",
   "metadata": {},
   "source": [
    "- 정수로 깔끔해졌군요."
   ]
  },
  {
   "cell_type": "markdown",
   "metadata": {},
   "source": [
    "### (2) 문자열 데이터 확인하기\n",
    "- 그 다음에는 남은 문자열 데이터들을 확인해보겠습니다. `info()`에서는 object로 나타났었죠.\n",
    "- 문자열 데이터는 어떤 데이터냐에 따라 매우 중요한 데이터일수도, 아닐 수도 있습니다. 따라서 데이터의 특성을 파악한 후 그에 맞게 처리해주는 것이 중요합니다.\n",
    "\n",
    "\n",
    "- 전체 데이터에는 숫자형 데이터와 object 데이터만 있었으므로 간단한 리스트  컴프리헨션을 통해 `object_col`을 생성해주도록 하겠습니다."
   ]
  },
  {
   "cell_type": "code",
   "execution_count": null,
   "metadata": {},
   "outputs": [],
   "source": [
    "object_col = [#]\n",
    "object_col"
   ]
  },
  {
   "cell_type": "markdown",
   "metadata": {},
   "source": [
    "- 네,  알맞게 다 들어간 것으로 보입니다.\n",
    "\n",
    "\n",
    "- 한 번 모두를 확인해보겠습니다. "
   ]
  },
  {
   "cell_type": "code",
   "execution_count": null,
   "metadata": {},
   "outputs": [],
   "source": [
    "match[object_col].head()"
   ]
  },
  {
   "cell_type": "markdown",
   "metadata": {},
   "source": [
    "- 한 눈에 들어오니 어떤 컬럼을 분석할 지 확인하기 쉽군요. 이 중 어떤 컬럼을 분석해보면 흥미로울 것 같나요?"
   ]
  },
  {
   "cell_type": "markdown",
   "metadata": {},
   "source": [
    "## 2-4. Datetime 데이터 다뤄보기\n",
    "- 위  컬럼 중 `Datetime` 컬럼을 한 번 다뤄보겠습니다. \n",
    "- 시간 데이터의 경우 pandas의 기본 내장 함수인 `to_datetime`으로 편리하게 변환할 수 있습니다."
   ]
  },
  {
   "cell_type": "markdown",
   "metadata": {},
   "source": [
    "#### (1) `Datetime` 컬럼은 시간 자료형으로 변환해주겠습니다."
   ]
  },
  {
   "cell_type": "code",
   "execution_count": null,
   "metadata": {},
   "outputs": [],
   "source": [
    "# to_datetime\n",
    "match[\"Datetime\"] =  #"
   ]
  },
  {
   "cell_type": "markdown",
   "metadata": {},
   "source": [
    "- 위 코드를 거친 후 `dt.[time]` 을 활용하면 원하는 시간 단위의 컬럼을 생성할 수 있습니다.  (초 단위는 없으니 `second`는 생략하겠습니다.)"
   ]
  },
  {
   "cell_type": "code",
   "execution_count": null,
   "metadata": {},
   "outputs": [],
   "source": [
    "match[\"Datetime_year\"] = match[\"Datetime\"].#\n",
    "match[\"Datetime_month\"] = match[\"Datetime\"].#\n",
    "match[\"Datetime_date\"] = match[\"Datetime\"].#\n",
    "match[\"Datetime_hour\"] = match[\"Datetime\"].#\n",
    "match[\"Datetime_minute\"] = match[\"Datetime\"].#\n",
    "# match[\"Datetime_second\"] = match[\"Datetime\"].dt.second"
   ]
  },
  {
   "cell_type": "markdown",
   "metadata": {},
   "source": [
    "- 또한, `dayofweek`를 활용해 요일을 가져올 수 있습니다.\n",
    "- 각 숫자는 0(월), 1(화), 2(수), 3(목), 4(금), 5(토), 6(일) 을 뜻합니다."
   ]
  },
  {
   "cell_type": "code",
   "execution_count": null,
   "metadata": {},
   "outputs": [],
   "source": [
    "match[\"Datetime_day\"] = match[\"Datetime\"].#\n",
    "match[[\"Datetime_day\", \"Datetime_date\"]].head()"
   ]
  },
  {
   "cell_type": "markdown",
   "metadata": {},
   "source": [
    "- 숫자를 사람이 알아보기 쉬운 문자열로 변환해주도록 하겠습니다."
   ]
  },
  {
   "cell_type": "code",
   "execution_count": null,
   "metadata": {},
   "outputs": [],
   "source": [
    "match.loc[match[\"Datetime_day\"] == #, \"Datetime_day_string\"] = \"Monday\"\n",
    "match.loc[match[\"Datetime_day\"] == #, \"Datetime_day_string\"] = \"Tuesday\"\n",
    "match.loc[match[\"Datetime_day\"] == #, \"Datetime_day_string\"] = \"Wednesday\"\n",
    "match.loc[match[\"Datetime_day\"] == #, \"Datetime_day_string\"] = \"Thursday\"\n",
    "match.loc[match[\"Datetime_day\"] == #, \"Datetime_day_string\"] = \"Friday\"\n",
    "match.loc[match[\"Datetime_day\"] == #, \"Datetime_day_string\"] = \"Saturday\"\n",
    "match.loc[match[\"Datetime_day\"] == #, \"Datetime_day_string\"] = \"Sunday\""
   ]
  },
  {
   "cell_type": "code",
   "execution_count": null,
   "metadata": {},
   "outputs": [],
   "source": [
    "match[[\"Datetime\",  \"Datetime_year\", \"Datetime_month\", \"Datetime_date\", \"Datetime_hour\", \n",
    "       \"Datetime_minute\", \"Datetime_day\", \"Datetime_day_string\"]]"
   ]
  },
  {
   "cell_type": "markdown",
   "metadata": {},
   "source": [
    "- 모두 알맞게 생성된 것으로 보입니다. "
   ]
  },
  {
   "cell_type": "markdown",
   "metadata": {},
   "source": [
    "#### (2) Datetime의 추이를 그래프로 확인해보겠습니다.\n",
    "이제 `seaborn` 시각화 툴을 통해 날짜/시간별 추이를 시각화해보겠습니다.    \n",
    "seaborn은 matplotlib과 비슷하게 데이터에 대한 시각화를 제공하는 패키지로, 간단하고 가벼운 그래프에 최적화 되어있는 matplotlib과 달리, 시각화 자체의 기능을 더 살려서 예쁘고 다양한 형태의 그래프를 그릴 수 있도록 만들어진 패키지입니다.     \n",
    "\n",
    "- https://matplotlib.org/tutorials/introductory/sample_plots.html\n",
    "- http://seaborn.pydata.org/"
   ]
  },
  {
   "cell_type": "markdown",
   "metadata": {},
   "source": [
    "`sns.countplot`으로 각 데이터의 개수를 시각화해보겠습니다."
   ]
  },
  {
   "cell_type": "code",
   "execution_count": null,
   "metadata": {},
   "outputs": [],
   "source": [
    "figure, ((ax1, ax2, ax3), (ax4, ax5, ax6)) = plt.subplots(nrows=2, ncols=3)\n",
    "figure.set_size_inches(18, 8)\n",
    "\n",
    "sns.countplot(data=match, x=\"Datetime_year\", ax=ax1)\n",
    "sns.countplot(data=match, x=\"Datetime_month\", ax=ax2)\n",
    "sns.countplot(data=match, x=\"Datetime_date\", ax=ax3)\n",
    "sns.countplot(data=match, x=\"Datetime_hour\", ax=ax4)\n",
    "sns.countplot(data=match, x=\"Datetime_minute\", ax=ax5)\n",
    "sns.countplot(data=match, x=\"Datetime_day_string\", ax=ax6)\n",
    "plt.show()"
   ]
  },
  {
   "cell_type": "markdown",
   "metadata": {},
   "source": [
    "- 각각의 추이를 보면, 월드컵의 개최 경향성을 생각해볼 수 있습니다."
   ]
  },
  {
   "cell_type": "markdown",
   "metadata": {},
   "source": [
    "## 2-5. 나라 이름 전처리하기\n",
    "- 뒤에 다양한 분석을 해보기 전에 나라 이름을 먼저 확인해보고 필요한 경우 처리를 해주도록 하겠습니다."
   ]
  },
  {
   "cell_type": "code",
   "execution_count": null,
   "metadata": {
    "scrolled": true
   },
   "outputs": [],
   "source": [
    "# unique\n",
    "match[\"Home Team Name\"].#"
   ]
  },
  {
   "cell_type": "markdown",
   "metadata": {},
   "source": [
    "몇 가지 처리해주어야 할 나라이름들이 보입니다. 다음 나라 이름들을 `replace` 함수로  변환해주도록 하겠습니다.\n",
    "- `Germany FR` → `Germany`\n",
    "- `C�te d'Ivoire` → `Côte d’Ivoire`\n",
    "- `rn\">Bosnia and Herzegovina` → `Bosnia and Herzegovina`\n",
    "- `rn\">Serbia and Montenegro` → `Serbia and Montenegro`\n",
    "- `rn\">Trinidad and Tobago` → `Trinidad and Tobago`\n",
    "- `rn\">United Arab Emirates` → `United Arab Emirates`\n",
    "- `rn\">Republic of Ireland` → `Republic of Ireland`\n",
    "- `Soviet Union` → `Russia`"
   ]
  },
  {
   "cell_type": "code",
   "execution_count": null,
   "metadata": {},
   "outputs": [],
   "source": [
    "match = match.#('Germany FR', 'Germany')\n",
    "match = match.#(\"C�te d'Ivoire\", 'Côte d’Ivoire')\n",
    "match = match.#('rn\">Bosnia and Herzegovina', 'Bosnia and Herzegovina')\n",
    "match = match.#('rn\">Serbia and Montenegro', 'Serbia and Montenegro')\n",
    "match = match.#('rn\">Trinidad and Tobago', 'Trinidad and Tobago')\n",
    "match = match.#('rn\">United Arab Emirates', 'United Arab Emirates')\n",
    "match = match.#('rn\">Republic of Ireland', 'Republic of Ireland')\n",
    "match = match.#('Soviet Union', 'Russia')"
   ]
  },
  {
   "cell_type": "markdown",
   "metadata": {},
   "source": [
    "잘 바뀌었는지 확인해볼까요?"
   ]
  },
  {
   "cell_type": "code",
   "execution_count": null,
   "metadata": {},
   "outputs": [],
   "source": [
    "match[\"Home Team Name\"].unique()"
   ]
  },
  {
   "cell_type": "markdown",
   "metadata": {},
   "source": [
    "모두 잘 처리되었군요. 그렇다면 Away Team Name도 확인해보겠습니다."
   ]
  },
  {
   "cell_type": "code",
   "execution_count": null,
   "metadata": {},
   "outputs": [],
   "source": [
    "match[\"Away Team Name\"].unique()"
   ]
  },
  {
   "cell_type": "markdown",
   "metadata": {},
   "source": [
    "네, 똑같이 잘 처리되었습니다!"
   ]
  },
  {
   "cell_type": "markdown",
   "metadata": {},
   "source": [
    "그렇다면 Home Team에 있는 나라 이름 리스트와 Away Team의 리스트는 같을까요?"
   ]
  },
  {
   "cell_type": "code",
   "execution_count": null,
   "metadata": {},
   "outputs": [],
   "source": [
    "# Home Team Name - Away Team Name\n",
    "set(#) - set(#)"
   ]
  },
  {
   "cell_type": "code",
   "execution_count": null,
   "metadata": {},
   "outputs": [],
   "source": [
    "# Away Team Name - Home Team Name\n",
    "set(#) - set(#)"
   ]
  },
  {
   "cell_type": "markdown",
   "metadata": {},
   "source": [
    "Away에는 있지만 Home에는 없는 나라가 총 다섯 개국 있군요. 추후 두 데이터를 함께 다룰 때 주의해야 할 것으로 보입니다."
   ]
  },
  {
   "cell_type": "markdown",
   "metadata": {},
   "source": [
    "## 2-6. 국가별 득점 수 구하기\n",
    "- 이번에는 각  국가별 득점 수를 구해보도록 하겠습니다. 어떤 나라가 많은 득점을 했을까요?"
   ]
  },
  {
   "cell_type": "markdown",
   "metadata": {},
   "source": [
    "#### (1) Home Team과 Away Team 별 데이터 추출하기"
   ]
  },
  {
   "cell_type": "markdown",
   "metadata": {},
   "source": [
    "- `groupby`로 우리가 원하는 데이터를 추출해낼 수 있습니다. \n",
    "- 각 나라가 홈 팀으로 얻은 득점과, 원정팀으로 얻은 득점을 합쳐 구해보겠습니다."
   ]
  },
  {
   "cell_type": "code",
   "execution_count": null,
   "metadata": {},
   "outputs": [],
   "source": [
    "# groupby\n",
    "match.#"
   ]
  },
  {
   "cell_type": "markdown",
   "metadata": {},
   "source": [
    "- `groupby`만을 사용하면 결과는 함수가 반환됩니다. \n",
    "- 여기서 우리가 합하고 싶은 `Home Team Goals` 컬럼을 추출하고, sum()으로 값을 확인해보도록 하겠습니다."
   ]
  },
  {
   "cell_type": "code",
   "execution_count": null,
   "metadata": {},
   "outputs": [],
   "source": [
    "# sort_values\n",
    "home = match.groupby(['Home Team Name'])#\n",
    "away = match.groupby(['Away Team Name'])#"
   ]
  },
  {
   "cell_type": "code",
   "execution_count": null,
   "metadata": {},
   "outputs": [],
   "source": [
    "home.head()"
   ]
  },
  {
   "cell_type": "code",
   "execution_count": null,
   "metadata": {},
   "outputs": [],
   "source": [
    "away.head()"
   ]
  },
  {
   "cell_type": "markdown",
   "metadata": {},
   "source": [
    "- 두 가지 모두 잘 생성되었군요.\n",
    "\n",
    "\n",
    "- 이제 `concat` 함수를 활용해서 두 Series 데이터를 합쳐보겠습니다. 열을 늘리고 싶으므로, `axis=1`을 추가해주도록 하겠습니다."
   ]
  },
  {
   "cell_type": "code",
   "execution_count": null,
   "metadata": {},
   "outputs": [],
   "source": [
    "# concat\n",
    "goal_per_country = pd.#\n",
    "goal_per_country"
   ]
  },
  {
   "cell_type": "markdown",
   "metadata": {},
   "source": [
    "- 이 때, 아까 확인했던 Home Team 리스트와 Away Team 리스트의차이로 인해 NaN (Not a number) 값이 생길 것입니다. "
   ]
  },
  {
   "cell_type": "code",
   "execution_count": null,
   "metadata": {},
   "outputs": [],
   "source": [
    "goal_per_country.isnull().sum()"
   ]
  },
  {
   "cell_type": "markdown",
   "metadata": {},
   "source": [
    "- Home Team에 다섯 개국이 없기 때문에 5개의 값이 비어있습니다. 이들을 0으로 채워주도록 하겠습니다."
   ]
  },
  {
   "cell_type": "code",
   "execution_count": null,
   "metadata": {},
   "outputs": [],
   "source": [
    "# fillna, astype\n",
    "goal_per_country = goal_per_country.#\n",
    "goal_per_country.isnull().sum()"
   ]
  },
  {
   "cell_type": "markdown",
   "metadata": {},
   "source": [
    "잘 채워졌군요.\n",
    "\n",
    "\n",
    "- 이제 두 값을 더해서 전체 골을 만들어보고, 전체 데이터를 `Goals`로 정렬해주도록 하겠습니다."
   ]
  },
  {
   "cell_type": "code",
   "execution_count": null,
   "metadata": {},
   "outputs": [],
   "source": [
    "# Home Team Goals + Away Team Goals\n",
    "# sort_values\n",
    "goal_per_country[\"Goals\"] = #\n",
    "goal_per_country = goal_per_country.#\n",
    "goal_per_country"
   ]
  },
  {
   "cell_type": "markdown",
   "metadata": {},
   "source": [
    "#### (2) 상위 10개국 득점 수 시각화해보기"
   ]
  },
  {
   "cell_type": "markdown",
   "metadata": {},
   "source": [
    "- 상위 10개국만 그래프로 시각화 해보겠습니다.\n",
    "- 표에서 나라 이름이 index로 사용되었으므로, x는 `top_10.index`로 넣어주면 됩니다."
   ]
  },
  {
   "cell_type": "code",
   "execution_count": null,
   "metadata": {
    "scrolled": true
   },
   "outputs": [],
   "source": [
    "top_10 = goal_per_country[:10]\n",
    "\n",
    "plt.figure(figsize=(7, 4))\n",
    "sns.barplot(#)\n",
    "plt.tight_layout()\n",
    "plt.show()"
   ]
  },
  {
   "cell_type": "markdown",
   "metadata": {},
   "source": [
    "## 2-7. 4강 이상 성적 집계하기\n",
    "- 전체 월드컵 국가 중 4강 이상을 해 본 국가는 어떤 나라가 많을까요? 좀 더 세부적으로 살펴보도록 하겠습니다."
   ]
  },
  {
   "cell_type": "markdown",
   "metadata": {},
   "source": [
    "#### (1) 1, 2, 3, 4위 국가 변수로 저장하기\n",
    "- 1~4위 국가를 각각 변수에 저장해주도록 하겠습니다."
   ]
  },
  {
   "cell_type": "code",
   "execution_count": null,
   "metadata": {},
   "outputs": [],
   "source": [
    "winner = worldcup[\"#\"]\n",
    "runners_up = worldcup[\"#\"]\n",
    "third = worldcup[\"#\"]\n",
    "fourth = worldcup[\"#\"]"
   ]
  },
  {
   "cell_type": "markdown",
   "metadata": {},
   "source": [
    "- 그 후, 각 국가가 1~4위를 해 본 횟수를 count 변수에 저장합니다."
   ]
  },
  {
   "cell_type": "code",
   "execution_count": null,
   "metadata": {},
   "outputs": [],
   "source": [
    "# value_counts\n",
    "winner_count = pd.Series(winner.#)\n",
    "runners_up_count = pd.Series(runners_up.#)\n",
    "third_count = pd.Series(third.#)\n",
    "fourth_count = pd.Series(fourth.#)"
   ]
  },
  {
   "cell_type": "code",
   "execution_count": null,
   "metadata": {
    "scrolled": true
   },
   "outputs": [],
   "source": [
    "winner_count"
   ]
  },
  {
   "cell_type": "markdown",
   "metadata": {},
   "source": [
    "- 나라별 횟수가 잘 저장되었군요.\n",
    "\n",
    "\n",
    "\n",
    "- 위 데이터들을 `ranks`라는 하나의 데이터프레임으로 합쳐줍니다."
   ]
  },
  {
   "cell_type": "code",
   "execution_count": null,
   "metadata": {},
   "outputs": [],
   "source": [
    "ranks = pd.DataFrame(#)\n",
    "\n",
    "ranks"
   ]
  },
  {
   "cell_type": "markdown",
   "metadata": {},
   "source": [
    "- NaN값은 각 국가가 해당 성적을 내 본 적이 없기 때문에 나타납니다. \n",
    "- NaN값을 0으로 채워주겠습니다."
   ]
  },
  {
   "cell_type": "code",
   "execution_count": null,
   "metadata": {},
   "outputs": [],
   "source": [
    "# fillna, astype\n",
    "ranks = ranks.#\n",
    "ranks"
   ]
  },
  {
   "cell_type": "markdown",
   "metadata": {},
   "source": [
    "- 데이터프레임을 `winner`, `runners_up`, `third`, `fourth` 순서대로 정렬해주겠습니다."
   ]
  },
  {
   "cell_type": "code",
   "execution_count": null,
   "metadata": {},
   "outputs": [],
   "source": [
    "# sort_values\n",
    "ranks = ranks.#\n",
    "ranks"
   ]
  },
  {
   "cell_type": "markdown",
   "metadata": {},
   "source": [
    "- 한국은 4위를 한 번 해봤군요!"
   ]
  }
 ],
 "metadata": {
  "kernelspec": {
   "display_name": "Python 3",
   "language": "python",
   "name": "python3"
  },
  "language_info": {
   "codemirror_mode": {
    "name": "ipython",
    "version": 3
   },
   "file_extension": ".py",
   "mimetype": "text/x-python",
   "name": "python",
   "nbconvert_exporter": "python",
   "pygments_lexer": "ipython3",
   "version": "3.7.0"
  }
 },
 "nbformat": 4,
 "nbformat_minor": 2
}
